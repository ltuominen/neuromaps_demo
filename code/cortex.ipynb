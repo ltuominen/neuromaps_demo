{
 "cells": [
  {
   "cell_type": "code",
   "execution_count": 9,
   "id": "e3457952",
   "metadata": {},
   "outputs": [],
   "source": [
    "import numpy as np\n",
    "import pandas as pd\n",
    "import os\n",
    "\n",
    "import warnings \n",
    "warnings.filterwarnings(\"ignore\", category=DeprecationWarning)\n",
    "warnings.filterwarnings(\"ignore\", category=FutureWarning)\n",
    "\n",
    "from neuromaps.images import load_data, load_gifti, annot_to_gifti, relabel_gifti, construct_shape_gii\n",
    "from neuromaps.datasets import fetch_annotation\n",
    "from neuromaps.resampling import resample_images\n",
    "from neuromaps.nulls import alexander_bloch, burt2020\n",
    "from neuromaps.parcellate import Parcellater\n",
    "from scipy.stats import pearsonr\n",
    "from neuromaps import transforms \n",
    "from neuromaps.stats import compare_images\n",
    "from neuromaps.nulls import hungarian"
   ]
  },
  {
   "cell_type": "code",
   "execution_count": 25,
   "id": "1c35c60b",
   "metadata": {},
   "outputs": [],
   "source": [
    "def load_atlas(parcellation_dir):\n",
    "    \"\"\"\n",
    "    Loads Desikan-Killiany atlas parcellation files for different spaces and resolutions.\n",
    "\n",
    "    Parameters\n",
    "    ----------\n",
    "    parcellation_dir : str\n",
    "        Directory containing the atlas parcellation files.\n",
    "\n",
    "    Returns\n",
    "    -------\n",
    "    atlas : dict\n",
    "        Dictionary with keys for each atlas version and values as file paths.\n",
    "    \"\"\"\n",
    "    \n",
    "    atlas = {\n",
    "        'dk_fsaverage_10k': (\n",
    "            os.path.join(parcellation_dir, 'atlas-desikankilliany_space-fsaverage_den-10k_hemi-L.label.gii.gz'),\n",
    "            os.path.join(parcellation_dir, 'atlas-desikankilliany_space-fsaverage_den-10k_hemi-R.label.gii.gz')\n",
    "        ),\n",
    "        'dk_fsaverage_164k': (\n",
    "            os.path.join(parcellation_dir, 'atlas-desikankilliany_space-fsaverage_den-164k_hemi-L.aparc-1.annot'),\n",
    "            os.path.join(parcellation_dir, 'atlas-desikankilliany_space-fsaverage_den-164k_hemi-R.aparc-1.annot')\n",
    "        ),\n",
    "        'dk_mni': os.path.join(parcellation_dir, 'atlas-desikankilliany_space-MNI_res-1mm.nii.gz')\n",
    "    }\n",
    "    return atlas\n",
    "\n"
   ]
  },
  {
   "cell_type": "code",
   "execution_count": 26,
   "id": "337b6884",
   "metadata": {},
   "outputs": [],
   "source": [
    "def create_parcellaters(atlas):\n",
    "    \"\"\"\n",
    "    Creates Parcellater objects for different atlas versions.\n",
    "    Parameters\n",
    "    ----------\n",
    "    atlas : dict\n",
    "        Dictionary with keys for each atlas version and values as file paths.\n",
    "    Returns\n",
    "    -------\n",
    "    parcellater_fs10k : Parcellater\n",
    "        Parcellater object for fsaverage 10k resolution.\n",
    "    parcellater_fs164k : Parcellater\n",
    "        Parcellater object for fsaverage 164k resolution.\n",
    "    parcellater_mni : Parcellater\n",
    "        Parcellater object for MNI152 space.\n",
    "    \"\"\"\n",
    "\n",
    "    dk_fsaverage_10k = relabel_gifti(atlas['dk_fsaverage_10k'])\n",
    "    parcellater_fs10k = Parcellater(dk_fsaverage_10k, 'fsaverage')\n",
    "    \n",
    "    dk_fsaverage_164k = annot_to_gifti(atlas['dk_fsaverage_164k'])  \n",
    "    parcellater_fs164k = Parcellater(dk_fsaverage_164k, 'fsaverage')\n",
    "\n",
    "    parcellater_mni = Parcellater(atlas['dk_mni'], 'MNI152')\n",
    "    return (parcellater_fs10k, parcellater_fs164k, parcellater_mni)\n",
    "\n"
   ]
  },
  {
   "cell_type": "code",
   "execution_count": null,
   "id": "7fec7896",
   "metadata": {},
   "outputs": [],
   "source": []
  },
  {
   "cell_type": "code",
   "execution_count": 28,
   "id": "b293f538",
   "metadata": {},
   "outputs": [],
   "source": [
    "    \n",
    "# load atlas & make parcellaters \n",
    "base_path = os.path.dirname(os.getcwd())\n",
    "parcellations = base_path + '/atlas'\n",
    "atlas = load_atlas(parcellations)\n",
    "parcellater_fs10k, parcellater_fs164k, parcellater_mni = create_parcellaters(atlas)"
   ]
  },
  {
   "cell_type": "code",
   "execution_count": 22,
   "id": "722ca3c3",
   "metadata": {},
   "outputs": [
    {
     "name": "stdout",
     "output_type": "stream",
     "text": [
      "('abagen', 'genepc1', 'fsaverage', '10k')\n",
      "('aghourian2017', 'feobv', 'MNI152', '1mm')\n",
      "('alarkurtti2015', 'raclopride', 'MNI152', '3mm')\n",
      "('bedard2019', 'feobv', 'MNI152', '1mm')\n",
      "('beliveau2017', 'az10419369', 'MNI152', '1mm')\n",
      "('beliveau2017', 'az10419369', 'fsaverage', '164k')\n",
      "('beliveau2017', 'cimbi36', 'MNI152', '1mm')\n",
      "('beliveau2017', 'cimbi36', 'fsaverage', '164k')\n",
      "('beliveau2017', 'cumi101', 'MNI152', '1mm')\n",
      "('beliveau2017', 'cumi101', 'fsaverage', '164k')\n",
      "('beliveau2017', 'dasb', 'MNI152', '1mm')\n",
      "('beliveau2017', 'dasb', 'fsaverage', '164k')\n",
      "('beliveau2017', 'sb207145', 'MNI152', '1mm')\n",
      "('beliveau2017', 'sb207145', 'fsaverage', '164k')\n",
      "('ding2010', 'mrb', 'MNI152', '1mm')\n",
      "('dubois2015', 'abp688', 'MNI152', '1mm')\n",
      "('dukart2018', 'flumazenil', 'MNI152', '3mm')\n",
      "('dukart2018', 'fpcit', 'MNI152', '3mm')\n",
      "('fazio2016', 'madam', 'MNI152', '3mm')\n",
      "('finnema2016', 'ucbj', 'MNI152', '1mm')\n",
      "('gallezot2010', 'p943', 'MNI152', '1mm')\n",
      "('gallezot2017', 'gsk189254', 'MNI152', '1mm')\n",
      "('hcps1200', 'megalpha', 'fsLR', '4k')\n",
      "('hcps1200', 'megbeta', 'fsLR', '4k')\n",
      "('hcps1200', 'megdelta', 'fsLR', '4k')\n",
      "('hcps1200', 'meggamma1', 'fsLR', '4k')\n",
      "('hcps1200', 'meggamma2', 'fsLR', '4k')\n",
      "('hcps1200', 'megtheta', 'fsLR', '4k')\n",
      "('hcps1200', 'megtimescale', 'fsLR', '4k')\n",
      "('hcps1200', 'myelinmap', 'fsLR', '32k')\n",
      "('hcps1200', 'thickness', 'fsLR', '32k')\n",
      "('hesse2017', 'methylreboxetine', 'MNI152', '3mm')\n",
      "('hill2010', 'devexp', 'fsLR', '164k')\n",
      "('hill2010', 'evoexp', 'fsLR', '164k')\n",
      "('hillmer2016', 'flubatine', 'MNI152', '1mm')\n",
      "('jaworska2020', 'fallypride', 'MNI152', '1mm')\n",
      "('kaller2017', 'sch23390', 'MNI152', '3mm')\n",
      "('kantonen2020', 'carfentanil', 'MNI152', '3mm')\n",
      "('laurikainen2018', 'fmpepd2', 'MNI152', '1mm')\n",
      "('margulies2016', 'fcgradient01', 'fsLR', '32k')\n",
      "('margulies2016', 'fcgradient02', 'fsLR', '32k')\n",
      "('margulies2016', 'fcgradient03', 'fsLR', '32k')\n",
      "('margulies2016', 'fcgradient04', 'fsLR', '32k')\n",
      "('margulies2016', 'fcgradient05', 'fsLR', '32k')\n",
      "('margulies2016', 'fcgradient06', 'fsLR', '32k')\n",
      "('margulies2016', 'fcgradient07', 'fsLR', '32k')\n",
      "('margulies2016', 'fcgradient08', 'fsLR', '32k')\n",
      "('margulies2016', 'fcgradient09', 'fsLR', '32k')\n",
      "('margulies2016', 'fcgradient10', 'fsLR', '32k')\n",
      "('mueller2013', 'intersubjvar', 'fsLR', '164k')\n",
      "('naganawa2020', 'lsn3172176', 'MNI152', '1mm')\n",
      "('neurosynth', 'cogpc1', 'MNI152', '2mm')\n",
      "('norgaard2021', 'flumazenil', 'MNI152', '1mm')\n",
      "('norgaard2021', 'flumazenil', 'fsaverage', '164k')\n",
      "('normandin2015', 'omar', 'MNI152', '1mm')\n",
      "('radnakrishnan2018', 'gsk215083', 'MNI152', '1mm')\n",
      "('raichle', 'cbf', 'fsLR', '164k')\n",
      "('raichle', 'cbv', 'fsLR', '164k')\n",
      "('raichle', 'cmr02', 'fsLR', '164k')\n",
      "('raichle', 'cmrglc', 'fsLR', '164k')\n",
      "('reardon2018', 'scalinghcp', 'civet', '41k')\n",
      "('reardon2018', 'scalingnih', 'civet', '41k')\n",
      "('reardon2018', 'scalingpnc', 'civet', '41k')\n",
      "('rosaneto', 'abp688', 'MNI152', '1mm')\n",
      "('sandiego2015', 'flb457', 'MNI152', '1mm')\n",
      "('sasaki2012', 'fepe2i', 'MNI152', '1mm')\n",
      "('satterthwaite2014', 'meancbf', 'MNI152', '1mm')\n",
      "('savli2012', 'altanserin', 'MNI152', '3mm')\n",
      "('savli2012', 'dasb', 'MNI152', '3mm')\n",
      "('savli2012', 'p943', 'MNI152', '3mm')\n",
      "('savli2012', 'way100635', 'MNI152', '3mm')\n",
      "('smart2019', 'abp688', 'MNI152', '1mm')\n",
      "('smith2017', 'flb457', 'MNI152', '1mm')\n",
      "('sydnor2021', 'SAaxis', 'fsLR', '32k')\n",
      "('tuominen', 'feobv', 'MNI152', '2mm')\n",
      "('turtonen2020', 'carfentanil', 'MNI152', '1mm')\n",
      "('vijay2018', 'ly2795050', 'MNI152', '2mm')\n",
      "('xu2020', 'FChomology', 'fsLR', '32k')\n",
      "('xu2020', 'evoexp', 'fsLR', '32k')\n"
     ]
    }
   ],
   "source": [
    "from neuromaps.datasets import available_annotations\n",
    "for annotation in available_annotations():\n",
    "    print(annotation)"
   ]
  },
  {
   "cell_type": "code",
   "execution_count": 37,
   "id": "5e862ec8",
   "metadata": {},
   "outputs": [
    {
     "name": "stdout",
     "output_type": "stream",
     "text": [
      "/Users/laurituominen/neuromaps-data/annotations/rosaneto/abp688/MNI152/source-rosaneto_desc-abp688_space-MNI152_res-1mm_feature.nii.gz\n",
      "/Users/laurituominen/neuromaps-data/annotations/ding2010/mrb/MNI152/source-ding2010_desc-mrb_space-MNI152_res-1mm_feature.nii.gz\n"
     ]
    }
   ],
   "source": [
    "from neuromaps.datasets import fetch_annotation\n",
    "annotation_abp688 = fetch_annotation(source='rosaneto')\n",
    "annotation_ding2010 = fetch_annotation(source='ding2010')\n",
    "\n",
    "print(annotation_abp688)\n",
    "print(annotation_ding2010)\n",
    "\n",
    "#\n",
    "abp688 = parcellater_mni.fit_transform(annotation_abp688, space='MNI152', ignore_background_data=True)\n",
    "ding2010 = parcellater_mni.fit_transform(annotation_ding2010, space='MNI152', ignore_background_data=True)\n",
    "\n"
   ]
  },
  {
   "cell_type": "code",
   "execution_count": 51,
   "id": "c4a8e9c0",
   "metadata": {},
   "outputs": [
    {
     "data": {
      "text/plain": [
       "array([3.60145084, 3.64495495, 3.42284499, 3.4405554 , 3.1326523 ,\n",
       "       3.44586224, 3.71973693, 3.58844295, 3.31569584, 3.50664052,\n",
       "       3.56744482, 3.32251093, 3.84708784, 3.55485851, 3.11194808,\n",
       "       3.27652946, 3.6213047 , 3.46154366, 3.62216346, 3.17265261,\n",
       "       3.23585415, 3.69018015, 3.29084801, 3.48265317, 3.70497475,\n",
       "       3.5432495 , 3.46669872, 3.24612216, 3.34366399, 3.57372885,\n",
       "       3.40410555, 3.01197333, 3.585942  , 3.64554829, 3.56978519,\n",
       "       3.53875889, 3.44809195, 3.33727809, 3.00410309, 3.35231664,\n",
       "       3.61467389, 3.59437888, 3.47936272, 3.29543888, 3.45207152,\n",
       "       3.11740376, 3.78317047, 3.77402155, 2.99699301, 3.22795503,\n",
       "       3.67686766, 3.55995334, 3.78023778, 3.3397421 , 3.32157765,\n",
       "       3.76758278, 3.3179771 , 3.52640412, 3.7702974 , 3.73666129,\n",
       "       3.42367965, 3.11283048, 3.52241534, 3.68366481, 3.59484205,\n",
       "       3.29715655, 3.5297364 , 3.53414924])"
      ]
     },
     "execution_count": 51,
     "metadata": {},
     "output_type": "execute_result"
    }
   ],
   "source": [
    "abp688 "
   ]
  },
  {
   "cell_type": "code",
   "execution_count": null,
   "id": "9d71e62e",
   "metadata": {},
   "outputs": [],
   "source": []
  },
  {
   "cell_type": "code",
   "execution_count": 40,
   "id": "f9828bcc",
   "metadata": {},
   "outputs": [
    {
     "name": "stdout",
     "output_type": "stream",
     "text": [
      "Correlation between ABP688 and Ding2010: r = 0.140, p = 0.207\n"
     ]
    }
   ],
   "source": [
    "from scipy.stats import pearsonr\n",
    "r, p = pearsonr(abp688[0], ding2010[0])\n",
    "\n",
    "print(f'Correlation between ABP688 and Ding2010: r = {r:.3f}, p = {p:.3f}')\n"
   ]
  },
  {
   "cell_type": "code",
   "execution_count": 46,
   "id": "b5743385",
   "metadata": {},
   "outputs": [
    {
     "name": "stdout",
     "output_type": "stream",
     "text": [
      "Correlation between ABP688 and Ding2010: r = 0.264, p = 0.030\n"
     ]
    }
   ],
   "source": [
    "rois = pd.read_csv(os.path.join(base_path, 'atlas' ,'atlas-desikankilliany.csv'))\n",
    "rois = rois[(rois['structure'] == 'cortex')].index.to_numpy()\n",
    "#abp688 = abp688[0][rois]\n",
    "#ding2010 = ding2010[0][rois]\n",
    "r, p = pearsonr(abp688, ding2010)\n",
    "print(f'Correlation between ABP688 and Ding2010: r = {r:.3f}, p = {p:.3f}')\n"
   ]
  },
  {
   "cell_type": "code",
   "execution_count": 48,
   "id": "66fe6bb6",
   "metadata": {},
   "outputs": [],
   "source": [
    "# get spins \n",
    "spins = pd.read_csv(os.path.join(base_path, 'atlas', \n",
    "                                 'spins_hungarian_aparc+aseg_ctx.csv'), header=None)\n",
    "nspins = spins.values.shape[1]"
   ]
  },
  {
   "cell_type": "code",
   "execution_count": 50,
   "id": "158fd7e7",
   "metadata": {},
   "outputs": [
    {
     "name": "stdout",
     "output_type": "stream",
     "text": [
      "Spatially permuted p-value: 0.045, rho: 0.264\n"
     ]
    }
   ],
   "source": [
    "\n",
    "# empirical correlation between annotations and parc\n",
    "rho = pearsonr(abp688, ding2010)[0]\n",
    "\n",
    "# get 10k rotations \n",
    "rotated = hungarian(data=abp688, n_perm=10000, spins=spins, parcellation=atlas['dk_mni']) \n",
    "\n",
    "# get null \n",
    "n = np.zeros((nspins, ))\n",
    "for i in range(nspins):\n",
    "    n[i] = pearsonr(ding2010, rotated[:,i])[0]    \n",
    "\n",
    "# get p-value\n",
    "pspin = (1 + sum(abs(n) > abs(rho ))) / (nspins + 1)\n",
    "\n",
    "# store, multiply by -1 to make more intuitive, because smaller p-value/rho means bigger effect  \n",
    "print(f'Spatially permuted p-value: {pspin:.3f}, rho: {rho:.3f}')\n",
    "\n"
   ]
  }
 ],
 "metadata": {
  "kernelspec": {
   "display_name": "base",
   "language": "python",
   "name": "python3"
  },
  "language_info": {
   "codemirror_mode": {
    "name": "ipython",
    "version": 3
   },
   "file_extension": ".py",
   "mimetype": "text/x-python",
   "name": "python",
   "nbconvert_exporter": "python",
   "pygments_lexer": "ipython3",
   "version": "3.10.12"
  }
 },
 "nbformat": 4,
 "nbformat_minor": 5
}
