{
 "cells": [
  {
   "cell_type": "markdown",
   "id": "0f4c1cb7",
   "metadata": {},
   "source": [
    "# Load packages "
   ]
  },
  {
   "cell_type": "code",
   "execution_count": 31,
   "id": "8be01ec4",
   "metadata": {},
   "outputs": [],
   "source": [
    "from neuromaps.parcellate import Parcellater\n",
    "from neuromaps.datasets import fetch_annotation\n",
    "import nibabel as nib\n",
    "from nilearn.plotting import find_parcellation_cut_coords\n",
    "from brainspace.null_models.moran import MoranRandomization\n",
    "from scipy.spatial.distance import pdist, squareform\n",
    "from neuromaps.stats import compare_images\n",
    "import numpy as np\n",
    "from scipy.stats import pearsonr\n",
    "import pandas as pd "
   ]
  },
  {
   "cell_type": "markdown",
   "id": "a2d4f711",
   "metadata": {},
   "source": [
    "# Define files for analysis"
   ]
  },
  {
   "cell_type": "code",
   "execution_count": null,
   "id": "f72ee680",
   "metadata": {},
   "outputs": [],
   "source": [
    "# files: D2 raclopride map from neuromaps \n",
    "target_file = fetch_annotation(source='finnema2016') \n",
    "\n",
    "# group difference map from smoking study\n",
    "path = \"/Users/laurituominen/Documents/Research/test_neuromaps_subcortex\"\n",
    "group_diff_file = path + '/data/smoking_pctdiff.nii.gz'"
   ]
  },
  {
   "cell_type": "markdown",
   "id": "76e64fcb",
   "metadata": {},
   "source": [
    "# Make a parcellater with tian"
   ]
  },
  {
   "cell_type": "code",
   "execution_count": 33,
   "id": "06836817",
   "metadata": {},
   "outputs": [
    {
     "name": "stdout",
     "output_type": "stream",
     "text": [
      "            Region  GroupDiff    Target\n",
      "0   HIP-head-m1-rh   0.285051  2.742955\n",
      "1   HIP-head-m2-rh   2.563795  2.074309\n",
      "2      THA-VAip-rh   2.713799  2.673070\n",
      "3      THA-VAia-rh   2.341662  1.988697\n",
      "4    HIP-head-l-rh   0.093814  3.041535\n",
      "5      HIP-body-rh   3.253509  2.336727\n",
      "6      HIP-tail-rh   6.098016  1.850131\n",
      "7       THA-VPm-rh   4.096924  3.259965\n",
      "8       THA-VPl-rh   5.057504  2.530140\n",
      "9       THA-VAs-rh   6.228715  1.858935\n",
      "10      THA-DAm-rh   9.196893  2.394477\n",
      "11      THA-DAl-rh   9.958902  1.966195\n",
      "12       PUT-VA-rh  -0.023123  5.269799\n",
      "13       PUT-DA-rh   2.749125  4.692276\n",
      "14       PUT-VP-rh   0.925698  3.383032\n",
      "15       PUT-DP-rh   6.161201  3.704532\n",
      "16       CAU-VA-rh   3.546787  3.479532\n",
      "17       CAU-DA-rh   4.900630  3.585401\n",
      "18     CAU-body-rh   4.724525  2.680541\n",
      "19     CAU-tail-rh   5.130054  1.827581\n",
      "20         lAMY-rh  -4.144912  3.508819\n",
      "21         mAMY-rh  -1.777550  3.196119\n",
      "22       THA-DP-rh   6.624034  2.524873\n",
      "23    NAc-shell-rh   2.494896  4.804407\n",
      "24     NAc-core-rh   1.219246  4.836031\n",
      "25          pGP-rh  -1.339395  1.891034\n",
      "26          aGP-rh   0.349976  2.093429\n",
      "27  HIP-head-m1-lh  -0.226259  1.606815\n",
      "28  HIP-head-m2-lh   3.264483  1.070602\n",
      "29     THA-VAip-lh   2.063011  2.693687\n",
      "30     THA-VAia-lh   1.607790  2.147445\n",
      "31   HIP-head-l-lh   0.596561  2.857212\n",
      "32     HIP-body-lh   4.136422  2.165137\n",
      "33     HIP-tail-lh   5.361999  2.368978\n",
      "34      THA-VPm-lh   4.145895  1.603304\n",
      "35      THA-VPl-lh   2.610688  3.487451\n",
      "36      THA-VAs-lh   5.952325  1.970574\n",
      "37      THA-DAm-lh   9.008852  1.212278\n",
      "38      THA-DAl-lh   7.563053  2.714731\n",
      "39       PUT-VA-lh  -1.063025  4.862682\n",
      "40       PUT-DA-lh   1.980910  3.884710\n",
      "41       PUT-VP-lh   0.628941  2.283955\n",
      "42       PUT-DP-lh   4.374578  2.500131\n",
      "43       CAU-VA-lh   4.109916  1.885715\n",
      "44       CAU-DA-lh   5.838734  3.540521\n",
      "45     CAU-body-lh   2.986506  1.858643\n",
      "46     CAU-tail-lh   4.522061  0.975748\n",
      "47         lAMY-lh  -2.808701  3.621962\n",
      "48         mAMY-lh  -2.450443  2.086349\n",
      "49       THA-DP-lh   5.783409  2.271022\n",
      "50    NAc-shell-lh   0.749127  4.194862\n",
      "51     NAc-core-lh   2.412833  4.256165\n",
      "52          pGP-lh  -0.899391  1.118330\n",
      "53          aGP-lh   0.646966  1.503903\n",
      "PearsonRResult(statistic=-0.26942762012315874, pvalue=0.04882080645245404)\n"
     ]
    }
   ],
   "source": [
    "# A parcellater with tian\n",
    "parcellater_tian = Parcellater(path + '/atlas/Tian_Subcortex_S4_3T_1mm.nii.gz','MNI152')\n",
    "\n",
    "# get the ROI names \n",
    "with open(path+'/atlas/Tian_Subcortex_S4_3T_label.txt', 'r') as f:\n",
    "    tianlabels = [line.strip() for line in f]\n",
    "\n",
    "# parcellate the maps\n",
    "group_diff = parcellater_tian.fit_transform(group_diff_file, 'MNI152', True).squeeze()\n",
    "target_map = parcellater_tian.fit_transform(target_file, 'MNI152', True).squeeze()\n",
    "\n",
    "# create a dataframe \n",
    "df = pd.DataFrame({'Region': tianlabels, 'GroupDiff': group_diff, 'Target': target_map})\n",
    "print(df)\n",
    "\n",
    "print(pearsonr(group_diff, target_map))\n"
   ]
  },
  {
   "cell_type": "code",
   "execution_count": 35,
   "id": "495b2c8b",
   "metadata": {},
   "outputs": [],
   "source": [
    "\n",
    "nnull = 1000\n",
    "coords  = pd.read_csv(path+'/atlas/Tian_Subcortex_S4_3T_COG.txt', sep='\\t', header=None).to_numpy()\n",
    "\n",
    "eu = squareform(pdist(coords)) # calculate euclidean distance\n",
    "euinv = eu.astype('float64') # inverse (smaller number if regions are further apart)\n",
    "np.fill_diagonal(euinv, 1)\n",
    "euinv **= -1\n",
    "\n",
    "mrs = MoranRandomization(n_rep=nnull, joint=True, tol=1e-6, random_state=1234)\n",
    "nullmaps = mrs.fit(euinv).randomize(group_diff)\n",
    "nullmaps = nullmaps.T"
   ]
  },
  {
   "cell_type": "code",
   "execution_count": 36,
   "id": "144312fd",
   "metadata": {},
   "outputs": [
    {
     "name": "stdout",
     "output_type": "stream",
     "text": [
      "Correlation:  -0.26942762012315874  P-value:  0.4825174825174825\n"
     ]
    }
   ],
   "source": [
    "corr, pval = compare_images(group_diff, target_map, nulls=nullmaps)\n",
    "print(\"Correlation: \", corr, \" P-value: \", pval)\n"
   ]
  }
 ],
 "metadata": {
  "kernelspec": {
   "display_name": "base",
   "language": "python",
   "name": "python3"
  },
  "language_info": {
   "codemirror_mode": {
    "name": "ipython",
    "version": 3
   },
   "file_extension": ".py",
   "mimetype": "text/x-python",
   "name": "python",
   "nbconvert_exporter": "python",
   "pygments_lexer": "ipython3",
   "version": "3.10.12"
  }
 },
 "nbformat": 4,
 "nbformat_minor": 5
}
